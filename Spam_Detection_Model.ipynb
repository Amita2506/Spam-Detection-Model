{
 "cells": [
  {
   "cell_type": "code",
   "execution_count": null,
   "id": "fc62dfd7",
   "metadata": {},
   "outputs": [],
   "source": [
    "#SPAM DETECTION - Usine NB Classifier"
   ]
  },
  {
   "cell_type": "code",
   "execution_count": 1,
   "id": "bc7edbae",
   "metadata": {},
   "outputs": [
    {
     "name": "stderr",
     "output_type": "stream",
     "text": [
      "[nltk_data] Downloading package punkt to\n",
      "[nltk_data]     C:\\Users\\user\\AppData\\Roaming\\nltk_data...\n",
      "[nltk_data]   Package punkt is already up-to-date!\n",
      "[nltk_data] Downloading package stopwords to\n",
      "[nltk_data]     C:\\Users\\user\\AppData\\Roaming\\nltk_data...\n",
      "[nltk_data]   Package stopwords is already up-to-date!\n"
     ]
    },
    {
     "data": {
      "text/plain": [
       "True"
      ]
     },
     "execution_count": 1,
     "metadata": {},
     "output_type": "execute_result"
    }
   ],
   "source": [
    "import numpy as np\n",
    "import pandas as pd\n",
    "from sklearn.model_selection import train_test_split\n",
    "from sklearn.feature_extraction.text import CountVectorizer\n",
    "from sklearn.naive_bayes import MultinomialNB\n",
    "from sklearn.metrics import accuracy_score, classification_report\n",
    "import nltk\n",
    "import joblib\n",
    "from nltk.corpus import stopwords\n",
    "from nltk.tokenize import word_tokenize\n",
    "nltk.download('punkt')\n",
    "nltk.download('stopwords')"
   ]
  },
  {
   "cell_type": "code",
   "execution_count": 2,
   "id": "63c0a0e9",
   "metadata": {},
   "outputs": [],
   "source": [
    "df = pd.read_csv(\"spam_messages.csv\", encoding=\"latin-1\")\n",
    "df = df.drop([\"Unnamed: 2\", \"Unnamed: 3\", \"Unnamed: 4\"], axis=1)\n",
    "df = df.rename(columns={\"v1\": \"label\", \"v2\": \"text\"})\n",
    "\n",
    "# Preprocess text data\n",
    "df[\"text\"] = df[\"text\"].str.lower()\n",
    "df[\"text\"] = df[\"text\"].apply(word_tokenize)\n",
    "stop_words = set(stopwords.words(\"english\"))\n",
    "df[\"text\"] = df[\"text\"].apply(lambda x: [word for word in x if word not in stop_words])\n",
    "df[\"text\"] = df[\"text\"].apply(lambda x: \" \".join(x))"
   ]
  },
  {
   "cell_type": "code",
   "execution_count": 3,
   "id": "8eca1002",
   "metadata": {},
   "outputs": [
    {
     "name": "stdout",
     "output_type": "stream",
     "text": [
      "Accuracy: 0.9748878923766816\n",
      "Classification Report:\n",
      "              precision    recall  f1-score   support\n",
      "\n",
      "         ham       0.99      0.98      0.99       965\n",
      "        spam       0.90      0.92      0.91       150\n",
      "\n",
      "    accuracy                           0.97      1115\n",
      "   macro avg       0.94      0.95      0.95      1115\n",
      "weighted avg       0.98      0.97      0.98      1115\n",
      "\n"
     ]
    }
   ],
   "source": [
    "#Feature Extraction\n",
    "vectorizer = CountVectorizer()\n",
    "X = vectorizer.fit_transform(df[\"text\"])\n",
    "\n",
    "#Split the Dataset\n",
    "X_train, X_test, y_train, y_test = train_test_split(X, df[\"label\"], test_size=0.2, random_state=42)\n",
    "\n",
    "#Train a classification model, such as Multinomial Naive Bayes\n",
    "classifier = MultinomialNB()\n",
    "classifier.fit(X_train, y_train)\n",
    "\n",
    "#Evaluate the model's performance using metrics like accuracy and classification report\n",
    "y_pred = classifier.predict(X_test)\n",
    "accuracy = accuracy_score(y_test, y_pred)\n",
    "report = classification_report(y_test, y_pred)\n",
    "print(\"Accuracy:\", accuracy)\n",
    "print(\"Classification Report:\")\n",
    "print(report)"
   ]
  },
  {
   "cell_type": "code",
   "execution_count": 5,
   "id": "c38da848",
   "metadata": {},
   "outputs": [
    {
     "data": {
      "text/plain": [
       "['email_spam_model.pkl']"
      ]
     },
     "execution_count": 5,
     "metadata": {},
     "output_type": "execute_result"
    }
   ],
   "source": [
    "joblib.dump(classifier, 'email_spam_model.pkl')"
   ]
  },
  {
   "cell_type": "code",
   "execution_count": 4,
   "id": "9e291860",
   "metadata": {},
   "outputs": [
    {
     "name": "stdout",
     "output_type": "stream",
     "text": [
      "This email is spam.\n"
     ]
    }
   ],
   "source": [
    "loaded_model = joblib.load('email_spam_model.pkl')\n",
    "new_email = [\"Congratulations! You've won a prize. Claim it now.\"]\n",
    "new_email = vectorizer.transform(new_email)  # Assuming you have the vectorizer from the previous code\n",
    "prediction = loaded_model.predict(new_email)\n",
    "\n",
    "if prediction[0] == \"spam\":\n",
    "    print(\"This email is spam.\")\n",
    "else:\n",
    "    print(\"This email is not spam.\")"
   ]
  },
  {
   "cell_type": "code",
   "execution_count": 7,
   "id": "e61a2fd8",
   "metadata": {},
   "outputs": [
    {
     "name": "stdout",
     "output_type": "stream",
     "text": [
      "This email is not spam.\n"
     ]
    }
   ],
   "source": [
    "loaded_model = joblib.load('email_spam_model.pkl')\n",
    "new_email = [\"lottery\"]\n",
    "new_email = vectorizer.transform(new_email)  # Assuming you have the vectorizer from the previous code\n",
    "prediction = loaded_model.predict(new_email)\n",
    "\n",
    "if prediction[0] == \"spam\":\n",
    "    print(\"This email is spam.\")\n",
    "else:\n",
    "    print(\"This email is not spam.\")"
   ]
  },
  {
   "cell_type": "code",
   "execution_count": null,
   "id": "db110991",
   "metadata": {},
   "outputs": [],
   "source": []
  }
 ],
 "metadata": {
  "kernelspec": {
   "display_name": "Python 3 (ipykernel)",
   "language": "python",
   "name": "python3"
  },
  "language_info": {
   "codemirror_mode": {
    "name": "ipython",
    "version": 3
   },
   "file_extension": ".py",
   "mimetype": "text/x-python",
   "name": "python",
   "nbconvert_exporter": "python",
   "pygments_lexer": "ipython3",
   "version": "3.11.4"
  }
 },
 "nbformat": 4,
 "nbformat_minor": 5
}
